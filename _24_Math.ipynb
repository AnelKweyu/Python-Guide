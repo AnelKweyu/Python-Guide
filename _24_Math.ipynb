{
  "nbformat": 4,
  "nbformat_minor": 0,
  "metadata": {
    "colab": {
      "provenance": [],
      "authorship_tag": "ABX9TyOpF4QdUxW36YaueVEajkuU",
      "include_colab_link": true
    },
    "kernelspec": {
      "name": "python3",
      "display_name": "Python 3"
    },
    "language_info": {
      "name": "python"
    }
  },
  "cells": [
    {
      "cell_type": "markdown",
      "metadata": {
        "id": "view-in-github",
        "colab_type": "text"
      },
      "source": [
        "<a href=\"https://colab.research.google.com/github/AnelKweyu/Python-Guide/blob/master/_24_Math.ipynb\" target=\"_parent\"><img src=\"https://colab.research.google.com/assets/colab-badge.svg\" alt=\"Open In Colab\"/></a>"
      ]
    },
    {
      "cell_type": "markdown",
      "source": [
        "# Python Math\n",
        "Python has a set of built-in math functions, including an extensive math module, that allows you to perform mathematical tasks on numbers."
      ],
      "metadata": {
        "id": "4J27v98M-hiH"
      }
    },
    {
      "cell_type": "markdown",
      "source": [
        "## Built-in Math Functions\n"
      ],
      "metadata": {
        "id": "Xtvj08_c-r5y"
      }
    },
    {
      "cell_type": "markdown",
      "source": [
        "The `min()`and `max()` functions can be used to find the lowest or highest value in an iterable:"
      ],
      "metadata": {
        "id": "okHBQUnL-10O"
      }
    },
    {
      "cell_type": "code",
      "source": [
        "x = min(5, 10, 25)\n",
        "y = max(5, 10, 25)\n",
        "\n",
        "print(x)\n",
        "print(y)"
      ],
      "metadata": {
        "colab": {
          "base_uri": "https://localhost:8080/"
        },
        "id": "vGicpUS7-x6M",
        "outputId": "2315cdfe-0d86-4451-a430-153de52ca79b"
      },
      "execution_count": 1,
      "outputs": [
        {
          "output_type": "stream",
          "name": "stdout",
          "text": [
            "5\n",
            "25\n"
          ]
        }
      ]
    },
    {
      "cell_type": "markdown",
      "source": [
        "The `abs()` function returns the absolute (positive) value of the specified number:"
      ],
      "metadata": {
        "id": "VLSCYYsK-9pE"
      }
    },
    {
      "cell_type": "code",
      "source": [
        "x = abs(-7.25)\n",
        "\n",
        "print(x)"
      ],
      "metadata": {
        "colab": {
          "base_uri": "https://localhost:8080/"
        },
        "id": "68p7Qq9x_Dst",
        "outputId": "e7ccb735-20de-4750-db25-9097a5f026d7"
      },
      "execution_count": 2,
      "outputs": [
        {
          "output_type": "stream",
          "name": "stdout",
          "text": [
            "7.25\n"
          ]
        }
      ]
    },
    {
      "cell_type": "markdown",
      "source": [
        "The pow(x, y) function returns the value of x to the power of y  ( x<sup>y</sup> )."
      ],
      "metadata": {
        "id": "Po9K1ZpS_HZK"
      }
    },
    {
      "cell_type": "code",
      "source": [
        "x = pow(4, 3)\n",
        "\n",
        "print(x)"
      ],
      "metadata": {
        "colab": {
          "base_uri": "https://localhost:8080/"
        },
        "id": "ivN8uVeEALa3",
        "outputId": "b2c377eb-63ab-4cb3-b68c-3839e767cdce"
      },
      "execution_count": 3,
      "outputs": [
        {
          "output_type": "stream",
          "name": "stdout",
          "text": [
            "64\n"
          ]
        }
      ]
    },
    {
      "cell_type": "markdown",
      "source": [
        "## The Math Module\n",
        "Python has also a built-in module called `math`, which extends the list of mathematical functions.\n",
        "\n",
        "To use it, you must import the `math` module:"
      ],
      "metadata": {
        "id": "WZhAKYipAWy7"
      }
    },
    {
      "cell_type": "code",
      "source": [
        "import math"
      ],
      "metadata": {
        "id": "OC6fop2hALUw"
      },
      "execution_count": 4,
      "outputs": []
    },
    {
      "cell_type": "markdown",
      "source": [
        "When you have imported the math module, you can start using methods and constants of the module.\n",
        "\n",
        "The `math.sqrt()` method for example, returns the square root of a number:"
      ],
      "metadata": {
        "id": "ACz04QTYAlsZ"
      }
    },
    {
      "cell_type": "code",
      "source": [
        "import math\n",
        "\n",
        "x = math.sqrt(64)\n",
        "\n",
        "print(x)"
      ],
      "metadata": {
        "colab": {
          "base_uri": "https://localhost:8080/"
        },
        "id": "JBKYys1wAkVK",
        "outputId": "60cf0a5e-daa6-458d-f3d0-a4fa803d987c"
      },
      "execution_count": 5,
      "outputs": [
        {
          "output_type": "stream",
          "name": "stdout",
          "text": [
            "8.0\n"
          ]
        }
      ]
    },
    {
      "cell_type": "markdown",
      "source": [
        "### Math Methods"
      ],
      "metadata": {
        "id": "L7M-NSoPCwo_"
      }
    },
    {
      "cell_type": "markdown",
      "source": [
        "| **Method**       | **Description**                                                                                                   |\n",
        "|:----------------:|:-----------------------------------------------------------------------------------------------------------------:|\n",
        "| `math.acos()`      | Returns the arc cosine of a number                                                                                |\n",
        "| `math.acosh()`     | Returns the inverse hyperbolic cosine of a number                                                                 |\n",
        "| `math.asin()`      | Returns the arc sine of a number                                                                                  |\n",
        "|`math.asinh()`     | Returns the inverse hyperbolic sine of a number                                                                   |\n",
        "| `math.atan()`      | Returns the arc tangent of a number in radians                                                                    |\n",
        "| `math.atan2()`     | Returns the arc tangent of y/x in radians                                                                         |\n",
        "| `math.atanh()`     | Returns the inverse hyperbolic tangent of a number                                                                |\n",
        "| `math.ceil()`      | Rounds a number up to the nearest integer                                                                         |\n",
        "| `math.comb()`      | Returns the number of ways to choose k items from n items without repetition and order                            |\n",
        "| `math.copysign()`  | Returns a float consisting of the value of the first parameter and the sign of the second parameter               |\n",
        "| `math.cos()`       | Returns the cosine of a number                                                                                    |\n",
        "| `math.cosh()`      | Returns the hyperbolic cosine of a number                                                                         |\n",
        "| `math.degrees()`   | Converts an angle from radians to degrees                                                                         |\n",
        "| `math.dist()`      | Returns the Euclidean distance between two points (p and q), where p and q are the coordinates of that point |\n",
        "| `math.erf()`      | Returns the error function of a number                                                                            |\n",
        "| `math.erfc()`      | Returns the complementary error function of a number                                                              |\n",
        "| `math.exp()`       | Returns E raised to the power of x                                                                                |\n",
        "| `math.expm1()`     | Returns Ex - 1                                                                                               |\n",
        "| `math.fabs()`      | Returns the absolute value of a number                                                                            |\n",
        "| `math.factorial()` | Returns the factorial of a number                                                                                 |\n",
        "| `math.floor()`     | Rounds a number down to the nearest integer                                                                       |\n",
        "| `math.fmod()`      | Returns the remainder of x/y                                                                                      |\n",
        "| `math.frexp()`    | Returns the mantissa and the exponent, of a specified number                                                      |\n",
        "| `math.fsum()`      | Returns the sum of all items in any iterable (tuples, arrays, lists, etc.)                                        |\n",
        "| `math.gamma()`     | Returns the gamma function at x                                                                                   |\n",
        "| `math.gcd()`       | Returns the greatest common divisor of two integers                                                               |\n",
        "| `math.hypot()`     | Returns the Euclidean norm                                                                                        |\n",
        "| `math.isclose()`   | Checks whether two values are close to each other, or not                                                         |\n",
        "| `math.isfinite()`  | Checks whether a number is finite or not                                                                          |\n",
        "| `math.isinf()`     | Checks whether a number is infinite or not                                                                        |\n",
        "| `math.isnan()`     | Checks whether a value is NaN (not a number) or not                                                               |\n",
        "| `math.isqrt()`     | Rounds a square root number downwards to the nearest integer                                                      |\n",
        "| `math.ldexp()`     | Returns the inverse of `math.frexp()` which is x * (2**i) of the given numbers x and i                         |\n",
        "| `math.lgamma()`    | Returns the log gamma value of x                                                                                  |\n",
        "| `math.log()`       | Returns the natural logarithm of a number, or the logarithm of number to base                                     |\n",
        "| `math.log10()`     | Returns the base-10 logarithm of x                                                                                |\n",
        "| `math.log1p()`     | Returns the natural logarithm of 1+x                                                                              |\n",
        "| `math.log2()`      | Returns the base-2 logarithm of x                                                                                 |\n",
        "| `math.perm()`      | Returns the number of ways to choose k items from n items with order and without repetition                       |\n",
        "| `math.pow()`       | Returns the value of x to the power of y                                                                          |\n",
        "| `math.prod()`      | Returns the product of all the elements in an iterable                                                            |\n",
        "| `math.radians()`   | Converts a degree value into radians                                                                              |\n",
        "| `math.remainder()` | Returns the closest value that can make numerator completely divisible by the denominator                         |\n",
        "| `math.sin()`       | Returns the sine of a number                                                                                      |\n",
        "| `math.sinh()`      | Returns the hyperbolic sine of a number                                                                           |\n",
        "| `math.sqrt()`      | Returns the square root of a number                                                                               |\n",
        "| `math.tan()`       | Returns the tangent of a number                                                                                   |\n",
        "| `math.tanh()`      | Returns the hyperbolic tangent of a number                                                                        |\n",
        "| `math.trunc()`     | Returns the truncated integer parts of a number                                                                   |\n"
      ],
      "metadata": {
        "id": "s1EEX7xQBSGx"
      }
    },
    {
      "cell_type": "markdown",
      "source": [
        "### Math Constants"
      ],
      "metadata": {
        "id": "WesW7LmPDC_d"
      }
    },
    {
      "cell_type": "markdown",
      "source": [
        "| **Constant** | **Description**                                   |\n",
        "|:------------:|:-------------------------------------------------:|\n",
        "| `math.e`       | Returns Euler's number (2.7182...)                |\n",
        "| `math.inf`     | Returns a floating-point positive infinity        |\n",
        "| `math.nan`     | Returns a floating-point NaN (Not a Number) value |\n",
        "| `math.pi`      | Returns PI (3.1415...)                            |\n",
        "| `math.tau`     | Returns tau (6.2831...)                           |\n"
      ],
      "metadata": {
        "id": "HzFhS2caDDec"
      }
    }
  ]
}